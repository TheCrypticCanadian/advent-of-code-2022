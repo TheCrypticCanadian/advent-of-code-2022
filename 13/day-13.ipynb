{
 "cells": [
  {
   "cell_type": "code",
   "execution_count": 2,
   "metadata": {},
   "outputs": [
    {
     "name": "stdout",
     "output_type": "stream",
     "text": [
      "[['[1,1,3,1,1]', '[1,1,5,1,1]'], ['[[1],[2,3,4]]', '[[1],4]'], ['[9]', '[[8,7,6]]'], ['[[4,4],4,4]', '[[4,4],4,4,4]'], ['[7,7,7,7]', '[7,7,7]'], ['[]', '[3]'], ['[[[]]]', '[[]]'], ['[1,[2,[3,[4,[5,6,7]]]],8,9]', '[1,[2,[3,[4,[5,6,0]]]],8,9]']]\n"
     ]
    }
   ],
   "source": [
    "if __name__ == \"__main__\":\n",
    "    filename=\"input-ex.txt\"\n",
    "    with open(filename) as f:\n",
    "        pairs = [line.rstrip().split(\"\\n\") for line in f.read().split(\"\\n\\n\")]\n",
    "        \n",
    "print(pairs)\n",
    "    "
   ]
  },
  {
   "cell_type": "code",
   "execution_count": 35,
   "metadata": {},
   "outputs": [
    {
     "name": "stdout",
     "output_type": "stream",
     "text": [
      "\n",
      "== Pair 1 ==\n",
      "- Compare [1, 1, 3, 1, 1] vs [1, 1, 5, 1, 1]\n",
      "\t- Compare 1 vs 1 \n",
      "\t- Compare 1 vs 1 \n",
      "\t- Compare 3 vs 5 \n",
      "\t\t- Left side is smaller, so inputs are in the right order\n",
      "True\n",
      "\n",
      "== Pair 2 ==\n",
      "- Compare [[1], [2, 3, 4]] vs [[1], 4]\n",
      "\t- Compare [1] vs [1] \n",
      "\t\t- Compare 1 vs 1 \n",
      "\t- Compare [2, 3, 4] vs 4 \n",
      "False\n",
      "\n",
      "== Pair 3 ==\n",
      "- Compare [9] vs [[8, 7, 6]]\n",
      "\t- Compare 9 vs [8, 7, 6] \n",
      "False\n",
      "\n",
      "== Pair 4 ==\n",
      "- Compare [[4, 4], 4, 4] vs [[4, 4], 4, 4, 4]\n",
      "\t- Compare [4, 4] vs [4, 4] \n",
      "\t\t- Compare 4 vs 4 \n",
      "\t\t- Compare 4 vs 4 \n",
      "\t- Compare 4 vs 4 \n",
      "\t- Compare 4 vs 4 \n",
      "True\n",
      "\n",
      "== Pair 5 ==\n",
      "- Compare [7, 7, 7, 7] vs [7, 7, 7]\n",
      "\t- Compare 7 vs 7 \n",
      "\t- Compare 7 vs 7 \n",
      "\t- Compare 7 vs 7 \n",
      "False\n",
      "\n",
      "== Pair 6 ==\n",
      "- Compare [] vs [3]\n",
      "True\n",
      "\n",
      "== Pair 7 ==\n",
      "- Compare [[[]]] vs [[]]\n",
      "\t- Compare [[]] vs [] \n",
      "False\n",
      "\n",
      "== Pair 8 ==\n",
      "- Compare [1, [2, [3, [4, [5, 6, 7]]]], 8, 9] vs [1, [2, [3, [4, [5, 6, 0]]]], 8, 9]\n",
      "\t- Compare 1 vs 1 \n",
      "\t- Compare [2, [3, [4, [5, 6, 7]]]] vs [2, [3, [4, [5, 6, 0]]]] \n",
      "\t\t- Compare 2 vs 2 \n",
      "\t\t- Compare [3, [4, [5, 6, 7]]] vs [3, [4, [5, 6, 0]]] \n",
      "\t\t\t- Compare 3 vs 3 \n",
      "\t\t\t- Compare [4, [5, 6, 7]] vs [4, [5, 6, 0]] \n",
      "\t\t\t\t- Compare 4 vs 4 \n",
      "\t\t\t\t- Compare [5, 6, 7] vs [5, 6, 0] \n",
      "\t\t\t\t\t- Compare 5 vs 5 \n",
      "\t\t\t\t\t- Compare 6 vs 6 \n",
      "\t\t\t\t\t- Compare 7 vs 0 \n",
      "\t\t\t\t\t\t- Right side is smaller, so inputs are in the wrong order\n",
      "False\n"
     ]
    }
   ],
   "source": [
    "import pyparsing as pp\n",
    "# def index_packet(packet, value):\n",
    "#     current = 0\n",
    "#     for value in packet\n",
    "\n",
    "def compare_packets(packet_1,packet_2,tab=\"\\t\"):    \n",
    "    #print(tab+\"New Compare Packet\")\n",
    "    #print()\n",
    "    result = None\n",
    "    current_index = 0 \n",
    "    while result == None:\n",
    "        if current_index >= len(packet_1) and current_index >= len(packet_2):\n",
    "            break\n",
    "        if current_index >= len(packet_1):\n",
    "            return True\n",
    "        if current_index >= len(packet_2):\n",
    "            return False\n",
    "        left = packet_1[current_index]\n",
    "        right = packet_2[current_index]\n",
    "        print(tab+f\"- Compare {left} vs {right} \")\n",
    "        if isinstance(left, list) and isinstance(right, list):\n",
    "            #print(\"List to List\")\n",
    "            results = compare_packets(left,right,tab+\"\\t\")\n",
    "            #print(results)\n",
    "            if results != None:\n",
    "                return results\n",
    "        elif isinstance(left, list) ^ isinstance(right, list):\n",
    "            #print(\"One list one int\")\n",
    "            return False\n",
    "        else:\n",
    "            if left < right:\n",
    "                print(tab+\"\\t\"+\"- Left side is smaller, so inputs are in the right order\")\n",
    "                return True\n",
    "            if left > right:\n",
    "                print(tab+\"\\t\"+\"- Right side is smaller, so inputs are in the wrong order\")\n",
    "                return False\n",
    "\n",
    "        current_index += 1\n",
    "\n",
    "\n",
    "\n",
    "\n",
    "pair_counter = 1\n",
    "for pair in pairs:\n",
    "    packet_1 = eval(pair[0])\n",
    "    packet_2 = eval(pair[1])\n",
    "    print()\n",
    "    print(f\"== Pair {pair_counter} ==\")\n",
    "    print(f\"- Compare {packet_1} vs {packet_2}\")\n",
    "    #print(packet_1)\n",
    "    #print(packet_2)\n",
    "    print(compare_packets(packet_1,packet_2))\n",
    "    pair_counter += 1\n",
    "    "
   ]
  }
 ],
 "metadata": {
  "kernelspec": {
   "display_name": "Python 3",
   "language": "python",
   "name": "python3"
  },
  "language_info": {
   "codemirror_mode": {
    "name": "ipython",
    "version": 3
   },
   "file_extension": ".py",
   "mimetype": "text/x-python",
   "name": "python",
   "nbconvert_exporter": "python",
   "pygments_lexer": "ipython3",
   "version": "3.11.0"
  },
  "orig_nbformat": 4,
  "vscode": {
   "interpreter": {
    "hash": "aee8b7b246df8f9039afb4144a1f6fd8d2ca17a180786b69acc140d282b71a49"
   }
  }
 },
 "nbformat": 4,
 "nbformat_minor": 2
}
