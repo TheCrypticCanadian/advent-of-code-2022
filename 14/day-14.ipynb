{
 "cells": [
  {
   "cell_type": "code",
   "execution_count": 19,
   "metadata": {},
   "outputs": [
    {
     "name": "stdout",
     "output_type": "stream",
     "text": [
      "[[[498, 4], [498, 6], [496, 6]], [[503, 4], [502, 4], [502, 9], [494, 9]]]\n"
     ]
    }
   ],
   "source": [
    "# Parse and set up input\n",
    "filename=\"input-ex.txt\"\n",
    "with open(filename) as f:\n",
    "    paths = [line.split(\" -> \") for line in [line.rstrip().split(\"\\n\") for line in f.read().split(\"\\n\\n\")][0]]#[line.rstrip().split(\"\\n\") for line in f.read().split(\"\\n\\n\")]\n",
    "for i in range(len(paths)):\n",
    "    path = paths[i]\n",
    "    for j in range(len(path)):\n",
    "        path[j] = list(map(int, path[j].split(\",\")))\n",
    "print(paths)\n"
   ]
  },
  {
   "cell_type": "code",
   "execution_count": 65,
   "metadata": {},
   "outputs": [
    {
     "name": "stdout",
     "output_type": "stream",
     "text": [
      "\n",
      "\n",
      "[498, 4] [498, 6] [0, -2]\n",
      "[[498, 4], [498, 5], [498, 6]]\n",
      "\n",
      "[498, 6] [496, 6] [2, 0]\n",
      "[[498, 4], [498, 5], [498, 6]]\n",
      "\n",
      "\n",
      "[503, 4] [502, 4] [1, 0]\n",
      "[[498, 4], [498, 5], [498, 6]]\n",
      "\n",
      "[502, 4] [502, 9] [0, -5]\n",
      "[[498, 4], [498, 5], [498, 6], [502, 4], [502, 5], [502, 6], [502, 7], [502, 8], [502, 9]]\n",
      "\n",
      "[502, 9] [494, 9] [8, 0]\n",
      "[[498, 4], [498, 5], [498, 6], [502, 4], [502, 5], [502, 6], [502, 7], [502, 8], [502, 9]]\n",
      "[[498, 4], [498, 5], [498, 6], [502, 4], [502, 5], [502, 6], [502, 7], [502, 8], [502, 9]]\n",
      "[498, 4] [502, 4] [498, 4] [502, 9]\n"
     ]
    },
    {
     "ename": "TypeError",
     "evalue": "'list' object cannot be interpreted as an integer",
     "output_type": "error",
     "traceback": [
      "\u001b[0;31m---------------------------------------------------------------------------\u001b[0m",
      "\u001b[0;31mTypeError\u001b[0m                                 Traceback (most recent call last)",
      "Cell \u001b[0;32mIn[65], line 70\u001b[0m\n\u001b[1;32m     67\u001b[0m             \u001b[39mif\u001b[39;00m [x,y] \u001b[39min\u001b[39;00m sandMap:\n\u001b[1;32m     68\u001b[0m                 \u001b[39mprint\u001b[39m(\u001b[39m\"\u001b[39m\u001b[39mHit\u001b[39m\u001b[39m\"\u001b[39m)\n\u001b[0;32m---> 70\u001b[0m printMap(sandMap)\n\u001b[1;32m     72\u001b[0m         \u001b[39m# if diffs[0] < 0:\u001b[39;00m\n\u001b[1;32m     73\u001b[0m         \u001b[39m#     x_range = list(range(-1,diffs[0]-1,-1))\u001b[39;00m\n\u001b[1;32m     74\u001b[0m         \u001b[39m# else:\u001b[39;00m\n\u001b[0;32m   (...)\u001b[0m\n\u001b[1;32m     81\u001b[0m         \u001b[39m# print(coord_ranges)\u001b[39;00m\n\u001b[1;32m     82\u001b[0m         \u001b[39m# print(x_range,y_range)\u001b[39;00m\n",
      "Cell \u001b[0;32mIn[65], line 64\u001b[0m, in \u001b[0;36mprintMap\u001b[0;34m(sandMap)\u001b[0m\n\u001b[1;32m     61\u001b[0m max_y \u001b[39m=\u001b[39m \u001b[39mmax\u001b[39m(sandMap, key\u001b[39m=\u001b[39m\u001b[39mlambda\u001b[39;00m tup: tup[\u001b[39m1\u001b[39m])\n\u001b[1;32m     62\u001b[0m \u001b[39mprint\u001b[39m(min_x,max_x,min_y,max_y)\n\u001b[0;32m---> 64\u001b[0m \u001b[39mfor\u001b[39;00m y \u001b[39min\u001b[39;00m \u001b[39mrange\u001b[39;49m(min_y,max_y):\n\u001b[1;32m     65\u001b[0m     row_string \u001b[39m=\u001b[39m \u001b[39m\"\u001b[39m\u001b[39m\"\u001b[39m\n\u001b[1;32m     66\u001b[0m     \u001b[39mfor\u001b[39;00m x \u001b[39min\u001b[39;00m \u001b[39mrange\u001b[39m(min_x,max_x):\n",
      "\u001b[0;31mTypeError\u001b[0m: 'list' object cannot be interpreted as an integer"
     ]
    }
   ],
   "source": [
    "from operator import sub\n",
    "\n",
    "sandMap = []\n",
    "for path in paths:\n",
    "    print(\"\")\n",
    "    for i in range(len(path)-1):\n",
    "        coor_1 = path[i]\n",
    "        coor_2 = path[i+1]  \n",
    "        diffs = list(map(sub, coor_1, coor_2))\n",
    "        print()\n",
    "        print(coor_1,coor_2,diffs)\n",
    "        # X Case\n",
    "        if coor_1[0] != coor_2[0]:\n",
    "            min_x,max_x = min([coor_1[0],coor_2[0]]),max([coor_1[0],coor_2[0]]) \n",
    "            # print(min_y,max_y)\n",
    "            x_ranges = range(min_x,max_x+1)\n",
    "            for x in x_ranges:\n",
    "                sandMap.append([x,coor_1[1]])\n",
    "\n",
    "        # Y Case\n",
    "        if coor_1[1] != coor_2[1]:\n",
    "            min_y,max_y = min([coor_1[1],coor_2[1]]),max([coor_1[1],coor_2[1]]) \n",
    "            # print(min_y,max_y)\n",
    "            y_ranges = range(min_y,max_y+1)\n",
    "            for y in y_ranges:\n",
    "                sandMap.append([coor_1[0],y])\n",
    "        print(sandMap)\n",
    "\n",
    "\n",
    "\n",
    "        # x_range = []\n",
    "        # y_range = []\n",
    "\n",
    "\n",
    "\n",
    "\n",
    "        # coord_ranges = []\n",
    "        # for diff in diffs:\n",
    "        #     if diff == 0:\n",
    "        #         coord_ranges.append([])\n",
    "        #     elif diff < 0:\n",
    "        #         coord_ranges.append(list(range(0,diff-1,-1)))\n",
    "        #     else:\n",
    "        #         coord_ranges.append(list(range(0,diff+1)))\n",
    "        \n",
    "        # test_vals = []\n",
    "        # for i in range(len(coord_ranges)):\n",
    "        #     coord_range = coord_ranges[i]\n",
    "        #     if len(coord_ranges[i]) != 0:\n",
    "        #         if i == 0:\n",
    "        #             for val in coord_range:\n",
    "        #                 sandMap.append([coor_1[0]+val,coor_1[1]])\n",
    "        #                 test_vals.append([coor_1[0]+val,coor_1[1]])\n",
    "        #         else:\n",
    "        #             for val in coord_range:\n",
    "        #                 sandMap.append([coor_1[0],coor_1[1]+val])\n",
    "        #                 test_vals.append([coor_1[0],coor_1[1]+val])\n",
    "        # print(test_vals)\n",
    "\n",
    "print(sandMap)\n",
    "\n",
    "def printMap(sandMap):\n",
    "    min_x = min(sandMap, key=lambda tup: tup[0])\n",
    "    max_x = max(sandMap, key=lambda tup: tup[0])\n",
    "    min_y = min(sandMap, key=lambda tup: tup[1])\n",
    "    max_y = max(sandMap, key=lambda tup: tup[1])\n",
    "    print(min_x,max_x,min_y,max_y)\n",
    "\n",
    "    for y in range(min_y,max_y):\n",
    "        row_string = \"\"\n",
    "        for x in range(min_x,max_x):\n",
    "            if [x,y] in sandMap:\n",
    "                print(\"Hit\")\n",
    "\n",
    "printMap(sandMap)\n",
    "                \n",
    "        # if diffs[0] < 0:\n",
    "        #     x_range = list(range(-1,diffs[0]-1,-1))\n",
    "        # else:\n",
    "        #     x_range = list(range(1,diffs[0]+1))\n",
    "        # if diffs[1] < 0:\n",
    "        #     y_range = list(range(-1,diffs[1]-1,-1))\n",
    "        # else:\n",
    "        #     y_range = [range(1,diffs[1]+1)]\n",
    "        # print(coor_1,coor_2,diffs)   \n",
    "        # print(coord_ranges)\n",
    "        # print(x_range,y_range)\n"
   ]
  },
  {
   "cell_type": "code",
   "execution_count": null,
   "metadata": {},
   "outputs": [],
   "source": []
  }
 ],
 "metadata": {
  "kernelspec": {
   "display_name": "Python 3",
   "language": "python",
   "name": "python3"
  },
  "language_info": {
   "codemirror_mode": {
    "name": "ipython",
    "version": 3
   },
   "file_extension": ".py",
   "mimetype": "text/x-python",
   "name": "python",
   "nbconvert_exporter": "python",
   "pygments_lexer": "ipython3",
   "version": "3.11.0"
  },
  "orig_nbformat": 4,
  "vscode": {
   "interpreter": {
    "hash": "aee8b7b246df8f9039afb4144a1f6fd8d2ca17a180786b69acc140d282b71a49"
   }
  }
 },
 "nbformat": 4,
 "nbformat_minor": 2
}
