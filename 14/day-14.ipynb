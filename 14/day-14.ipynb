{
 "cells": [
  {
   "cell_type": "code",
   "execution_count": 19,
   "metadata": {},
   "outputs": [
    {
     "name": "stdout",
     "output_type": "stream",
     "text": [
      "[[[498, 4], [498, 6], [496, 6]], [[503, 4], [502, 4], [502, 9], [494, 9]]]\n"
     ]
    }
   ],
   "source": [
    "# Parse and set up input\n",
    "filename=\"input-ex.txt\"\n",
    "with open(filename) as f:\n",
    "    paths = [line.split(\" -> \") for line in [line.rstrip().split(\"\\n\") for line in f.read().split(\"\\n\\n\")][0]]#[line.rstrip().split(\"\\n\") for line in f.read().split(\"\\n\\n\")]\n",
    "for i in range(len(paths)):\n",
    "    path = paths[i]\n",
    "    for j in range(len(path)):\n",
    "        path[j] = list(map(int, path[j].split(\",\")))\n",
    "print(paths)\n"
   ]
  },
  {
   "cell_type": "code",
   "execution_count": 42,
   "metadata": {},
   "outputs": [
    {
     "name": "stdout",
     "output_type": "stream",
     "text": [
      "[[498, 4], [498, 3], [498, 2], [498, 6], [499, 6], [500, 6]]\n",
      "[[498, 4], [498, 3], [498, 2], [498, 6], [499, 6], [500, 6], [503, 4], [504, 4], [502, 4], [502, 3], [502, 2], [502, 1], [502, 0], [502, -1], [502, 9], [503, 9], [504, 9], [505, 9], [506, 9], [507, 9], [508, 9], [509, 9], [510, 9]]\n"
     ]
    }
   ],
   "source": [
    "from operator import sub\n",
    "sandMap = []\n",
    "for path in paths:\n",
    "    for i in range(len(path)-1):\n",
    "        coor_1 = path[i]\n",
    "        coor_2 = path[i+1]  \n",
    "        diffs = list(map(sub, coor_1, coor_2))\n",
    "\n",
    "        # x_range = []\n",
    "        # y_range = []\n",
    "        coord_ranges = []\n",
    "        for diff in diffs:\n",
    "            if diff == 0:\n",
    "                coord_ranges.append([])\n",
    "            elif diff < 0:\n",
    "                coord_ranges.append(list(range(0,diff-1,-1)))\n",
    "            else:\n",
    "                coord_ranges.append(list(range(0,diff+1)))\n",
    "        \n",
    "\n",
    "        for i in range(len(coord_ranges)):\n",
    "            coord_range = coord_ranges[i]\n",
    "            if len(coord_ranges[i]) == 0:\n",
    "                pass\n",
    "            else:\n",
    "                if i == 0:\n",
    "                    for val in coord_range:\n",
    "                        sandMap.append([coor_1[0]+val,coor_1[1]])\n",
    "                else:\n",
    "                    for val in coord_range:\n",
    "                        sandMap.append([coor_1[0],coor_1[1]+val])\n",
    "\n",
    "    print(sandMap)\n",
    "\n",
    "min_x = min(sandMap, key=lambda tup: tup[0])\n",
    "max_x = max(sandMap, key=lambda tup: tup[0])\n",
    "min_y = min(sandMap, key=lambda tup: tup[1])\n",
    "max_y = max(sandMap, key=lambda tup: tup[1])\n",
    "        # if diffs[0] < 0:\n",
    "        #     x_range = list(range(-1,diffs[0]-1,-1))\n",
    "        # else:\n",
    "        #     x_range = list(range(1,diffs[0]+1))\n",
    "        # if diffs[1] < 0:\n",
    "        #     y_range = list(range(-1,diffs[1]-1,-1))\n",
    "        # else:\n",
    "        #     y_range = [range(1,diffs[1]+1)]\n",
    "        # print(coor_1,coor_2,diffs)   \n",
    "        # print(coord_ranges)\n",
    "        # print(x_range,y_range)\n"
   ]
  },
  {
   "cell_type": "code",
   "execution_count": null,
   "metadata": {},
   "outputs": [],
   "source": []
  }
 ],
 "metadata": {
  "kernelspec": {
   "display_name": "Python 3",
   "language": "python",
   "name": "python3"
  },
  "language_info": {
   "codemirror_mode": {
    "name": "ipython",
    "version": 3
   },
   "file_extension": ".py",
   "mimetype": "text/x-python",
   "name": "python",
   "nbconvert_exporter": "python",
   "pygments_lexer": "ipython3",
   "version": "3.11.0"
  },
  "orig_nbformat": 4,
  "vscode": {
   "interpreter": {
    "hash": "aee8b7b246df8f9039afb4144a1f6fd8d2ca17a180786b69acc140d282b71a49"
   }
  }
 },
 "nbformat": 4,
 "nbformat_minor": 2
}
