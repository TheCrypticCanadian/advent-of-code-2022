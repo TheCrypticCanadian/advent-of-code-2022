{
 "cells": [
  {
   "cell_type": "code",
   "execution_count": 22,
   "metadata": {},
   "outputs": [],
   "source": [
    "filename=\"input.txt\"\n",
    "commands=[]\n",
    "with open(filename) as f:\n",
    "    commands = [line.rstrip().split(\" \") for line in f.readlines()]\n",
    "#print(commands)\n"
   ]
  },
  {
   "cell_type": "code",
   "execution_count": 49,
   "metadata": {},
   "outputs": [
    {
     "name": "stdout",
     "output_type": "stream",
     "text": [
      "{'/': [14848514, 8504156], '/>a2': [29116, 2557, 62596], '/>a2>a3': [584], '/>d2': [4060174, 8033020, 5626152, 7214296]}\n",
      "['/']\n",
      "['/', 'a2']\n",
      "['/', 'a2']\n",
      "['/', 'a2', 'a3']\n",
      "['/', 'a2', 'a3']\n",
      "['/', 'a2', 'a3']\n",
      "['/', 'd2']\n",
      "['/', 'd2']\n",
      "[(48381165, '/'), (24933642, 'd2'), (94853, 'a2'), (584, 'a3')]\n",
      "95437\n"
     ]
    }
   ],
   "source": [
    "# Joel\n",
    "input = 'smol-input.txt'\n",
    "deviceTerminal = list(filter(None, open(input, 'r').read().split('\\n')))\n",
    "\n",
    "fileSystem = dict()\n",
    "\n",
    "directory = []\n",
    "for command in deviceTerminal:\n",
    "    if '$' in command:\n",
    "        if 'cd' in command:\n",
    "            if '/' in command:\n",
    "                directory = ['/']\n",
    "            elif '..' in command:\n",
    "                directory.pop()\n",
    "            else: \n",
    "                directory.append(''.join([command.split()[2], str(len(directory) + 1)]))\n",
    "    elif command.split()[0].isdigit():\n",
    "        try :\n",
    "            fileSystem[\">\".join(directory)].append(int(command.split()[0]))\n",
    "        except KeyError:\n",
    "            fileSystem[\">\".join(directory)] = [int(command.split()[0])]\n",
    "\n",
    "sumDict= dict()\n",
    "#print(fileSystem)\n",
    "for directory in fileSystem.keys():\n",
    "        directoryKeys = directory.split(\">\")\n",
    "        value = fileSystem[directory]\n",
    "        usedItems = []\n",
    "        for item in directoryKeys:\n",
    "            #print(directoryKeys)\n",
    "            try:\n",
    "                sumDict[item].append(value)\n",
    "                usedItems.append(item)\n",
    "            except KeyError:\n",
    "                sumDict[item] = [value]\n",
    "                usedItems.append(item)\n",
    "\n",
    "total=[]\n",
    "joels = {}\n",
    "for item in sumDict:\n",
    "    directorySize = sum(sum(sumDict[item], []))\n",
    "    joels[item] = int(directorySize)\n",
    "    if directorySize <= 100000:\n",
    "        total.append(directorySize)\n",
    "\n",
    "print(len(sorted( ((v,k) for k,v in joels.items()), reverse=True)))\n",
    "print(sum(total))"
   ]
  },
  {
   "cell_type": "code",
   "execution_count": 40,
   "metadata": {},
   "outputs": [
    {
     "name": "stdout",
     "output_type": "stream",
     "text": [
      "[(40913445, '/'), (20156050, '/lfrctthp/'), (13136144, '/jssbn/'), (7735647, '/nmzntmcf/'), (6986416, '/jssbn/pjzpjjq/'), (4614552, '/jssbn/pjzpjjq/dvlb/'), (4350313, '/jssbn/tlhttrgs/'), (4160054, '/lfrctthp/sqhvvsb/'), (4117669, '/jssbn/tlhttrgs/zjghthcb/'), (3682351, '/lfrctthp/sqhvvsb/ldmwm/'), (3667539, '/lfrctthp/dvlb/'), (3387853, '/nmzntmcf/lvchpdf/'), (2595692, '/jssbn/pjzpjjq/dvlb/zhj/'), (2438764, '/lfrctthp/zzvnq/'), (2423397, '/lfrctthp/dvlb/dnqvhtr/'), (2341591, '/lfrctthp/sqhvvsb/ldmwm/cwjbzd/'), (2244014, '/vhj/'), (2072073, '/lfrctthp/cwjbzd/'), (1823963, '/lfrctthp/dvlb/dnqvhtr/sppmmj/'), (1605101, '/lfrctthp/sqhvvsb/ldmwm/cwjbzd/tlhttrgs/'), (1565430, '/nmzntmcf/jqcms/'), (1552395, '/lfrctthp/vzh/'), (1546736, '/jssbn/tlhttrgs/zjghthcb/hvwjc/'), (1521468, '/jssbn/pjzpjjq/dvlb/zhj/nqv/'), (1507522, '/nmzntmcf/lrtsts/'), (1390691, '/jssbn/tlhttrgs/zjghthcb/ghzsqrn/'), (1273556, '/vhj/jnm/'), (1267547, '/nmzntmcf/lrtsts/drtrdnsg/'), (1168381, '/nmzntmcf/lvchpdf/tlhttrgs/'), (1143821, '/lfrctthp/ndn/'), (1126581, '/lfrctthp/cwjbzd/lfrctthp/'), (1037314, '/jssbn/pjzpjjq/qlrn/'), (1022227, '/lfrctthp/zzvnq/lznpqbrd/'), (1004879, '/jssbn/pjzpjjq/dvlb/fnwsmj/'), (966230, '/lfrctthp/dvlb/jvvsgbl/'), (952823, '/jssbn/lfrctthp/'), (942298, '/jssbn/tlhttrgs/zjghthcb/lfrctthp/'), (891151, '/nmzntmcf/lvchpdf/sppmmj/'), (885238, '/lfrctthp/cwjbzd/lfrctthp/fqswn/'), (882453, '/nmzntmcf/lrtsts/drtrdnsg/sppmmj/'), (881861, '/jssbn/pjzpjjq/dvlb/zhj/hww/'), (861475, '/lfrctthp/vzh/ccbjg/'), (854533, '/lfrctthp/ndn/hfq/'), (787277, '/nmzntmcf/qpzqp/'), (776008, '/jssbn/pjzpjjq/dvlb/fnwsmj/lfrctthp/'), (734184, '/jssbn/tlhttrgs/zjghthcb/ghzsqrn/fngzpjm/'), (694106, '/nmzntmcf/jqcms/cwjbzd/'), (676993, '/lfrctthp/sqhvvsb/ldmwm/jdsbt/'), (670228, '/vhj/jnm/sppmmj/'), (666560, '/nmzntmcf/lvchpdf/njfmmj/'), (651587, '/jssbn/tlhttrgs/zjghthcb/hvwjc/wnj/'), (610752, '/jssbn/pjzpjjq/vpltwcs/'), (592572, '/lfrctthp/zzvnq/pddfg/'), (587125, '/lfrctthp/rtpwjds/'), (570808, '/lfrctthp/cwjbzd/lfrctthp/fqswn/vpbwj/'), (563055, '/lfrctthp/zzvnq/lznpqbrd/lfrctthp/'), (559754, '/jssbn/lfrctthp/srf/'), (502558, '/jssbn/tlhttrgs/zjghthcb/ghzsqrn/fngzpjm/dvlb/'), (482386, '/lfrctthp/dvlb/jvvsgbl/tlhttrgs/'), (478036, '/lfrctthp/sqhvvsb/ldmwm/cwjbzd/tlhttrgs/qzmpwzvz/'), (471833, '/lfrctthp/vzh/ccbjg/sppmmj/'), (464007, '/jssbn/pjzpjjq/vpltwcs/tlhttrgs/'), (438287, '/lfrctthp/zzvnq/pvdz/'), (434325, '/nmzntmcf/lvchpdf/tlhttrgs/tlhttrgs/'), (421449, '/lfrctthp/dvlb/dnqvhtr/sppmmj/hmcn/'), (420914, '/lfrctthp/lwqdqm/'), (414392, '/nmzntmcf/qrgh/'), (412610, '/lfrctthp/dvlb/jvvsgbl/tlhttrgs/hjclnb/'), (392780, '/jssbn/pjzpjjq/dvlb/zhj/nqv/rjgbm/'), (389642, '/lfrctthp/vzh/ccbjg/mcvsbd/'), (385094, '/nmzntmcf/lrtsts/drtrdnsg/gnc/'), (370059, '/vhj/jnm/sppmmj/lfrctthp/'), (368940, '/jssbn/pjzpjjq/qlrn/wbgvqpc/'), (368372, '/nmzntmcf/lrtsts/drtrdnsg/sppmmj/nbzh/'), (346732, '/jssbn/pjzpjjq/dvlb/fnwsmj/lfrctthp/sgddcfdn/'), (331863, '/nmzntmcf/lvchpdf/tlhttrgs/tlhttrgs/sbhswjld/'), (300188, '/nmzntmcf/lvchpdf/njfmmj/gjgftj/'), (272658, '/nmzntmcf/jqcms/cwjbzd/mwvlhzdn/'), (270237, '/lfrctthp/dvlb/tlhttrgs/'), (270067, '/jssbn/pjzpjjq/dvlb/zhj/nqv/tlhttrgs/'), (264579, '/jssbn/pjzpjjq/dvlb/bjfqsb/jgltcw/'), (264579, '/jssbn/pjzpjjq/dvlb/bjfqsb/'), (262825, '/nmzntmcf/lvchpdf/njfmmj/sppmmj/qzvwhr/cwjbzd/'), (262825, '/nmzntmcf/lvchpdf/njfmmj/sppmmj/qzvwhr/'), (262825, '/nmzntmcf/lvchpdf/njfmmj/sppmmj/'), (259673, '/lfrctthp/dvlb/dnqvhtr/sppmmj/rqbtcvfw/'), (257801, '/lfrctthp/dvlb/dnqvhtr/phcfgqfs/'), (255855, '/jssbn/tlhttrgs/zjghthcb/lfrctthp/thgh/'), (252680, '/vhj/tlhttrgs/'), (247206, '/lfrctthp/zzvnq/pddfg/jbw/'), (246886, '/jssbn/pjzpjjq/qlrn/wbgvqpc/qfhvjtv/'), (246742, '/lfrctthp/zzvnq/lznpqbrd/lfrctthp/sppmmj/'), (243595, '/nmzntmcf/lvchpdf/njfmmj/gjgftj/mjbw/'), (243152, '/ltwmz/'), (241963, '/lfrctthp/mpb/dvlb/prqfqf/ltmjppj/'), (241963, '/lfrctthp/mpb/dvlb/prqfqf/'), (241963, '/lfrctthp/mpb/dvlb/'), (241963, '/lfrctthp/mpb/'), (240264, '/jssbn/tlhttrgs/zjghthcb/hvwjc/wnj/dvlb/cwjbzd/tlhttrgs/'), (240264, '/jssbn/tlhttrgs/zjghthcb/hvwjc/wnj/dvlb/cwjbzd/'), (240264, '/jssbn/tlhttrgs/zjghthcb/hvwjc/wnj/dvlb/'), (239360, '/lfrctthp/dvlb/dnqvhtr/jzm/'), (238276, '/lfrctthp/cwjbzd/lfrctthp/fqswn/dhgghnm/'), (237944, '/jssbn/tlhttrgs/zjghthcb/dvlb/'), (237626, '/nmzntmcf/lvchpdf/tvsvr/'), (235724, '/lfrctthp/sqhvvsb/ldmwm/cwjbzd/llcflrds/cngdgq/'), (235724, '/lfrctthp/sqhvvsb/ldmwm/cwjbzd/llcflrds/'), (234873, '/jssbn/pjzpjjq/dvlb/zhj/hww/pnsbrd/'), (232644, '/jssbn/tlhttrgs/zmlpwlm/'), (231626, '/jssbn/tlhttrgs/zjghthcb/ghzsqrn/fngzpjm/ghzwdw/'), (230357, '/jssbn/pjzpjjq/dvlb/fnwsmj/lfrctthp/qdgqdtn/'), (228871, '/jssbn/pjzpjjq/dvlb/fnwsmj/rddpmj/fhlnmw/'), (228871, '/jssbn/pjzpjjq/dvlb/fnwsmj/rddpmj/'), (225586, '/lfrctthp/sqhvvsb/ldmwm/cwjbzd/tlhttrgs/cwjbzd/'), (224826, '/lfrctthp/vzh/ccbjg/mcvsbd/cwjbzd/'), (223951, '/nmzntmcf/lvchpdf/sppmmj/zbq/'), (215810, '/nmzntmcf/jqcms/cwjbzd/qrpllg/'), (214188, '/nmzntmcf/lvchpdf/tlhttrgs/mjcmhg/'), (210254, '/nmzntmcf/lvchpdf/nsw/'), (205621, '/nmzntmcf/jqcms/ssr/'), (205483, '/jssbn/pjzpjjq/dvlb/wlhfvwl/rbwq/'), (205483, '/jssbn/pjzpjjq/dvlb/wlhfvwl/'), (201519, '/lfrctthp/cwjbzd/lfrctthp/fqswn/dhgghnm/sppmmj/dsss/'), (201519, '/lfrctthp/cwjbzd/lfrctthp/fqswn/dhgghnm/sppmmj/'), (198780, '/nmzntmcf/lrtsts/lfrctthp/'), (197956, '/lfrctthp/zzvnq/pddfg/cwjbzd/'), (193665, '/lfrctthp/sqhvvsb/ldmwm/cwjbzd/tlhttrgs/zmsbqrqf/'), (190424, '/lfrctthp/zzvnq/pvdz/jctpqbgw/'), (188492, '/vhj/lfrctthp/'), (184438, '/lfrctthp/lwqdqm/dvlb/'), (174943, '/jssbn/rbtbtt/'), (170513, '/jssbn/tlhttrgs/zjghthcb/lfrctthp/zzffz/'), (164816, '/lfrctthp/vzh/ccbjg/mcvsbd/rbsv/'), (162986, '/lfrctthp/sqhvvsb/ldmwm/cwjbzd/wtcttdzg/'), (161387, '/lfrctthp/cwjbzd/sppmmj/sppmmj/'), (161387, '/lfrctthp/cwjbzd/sppmmj/'), (153442, '/lfrctthp/sqhvvsb/ldmwm/cwjbzd/tlhttrgs/qqmtj/'), (153197, '/jssbn/lfrctthp/srf/rwvdvvsf/'), (147277, '/lfrctthp/sqhvvsb/ldmwm/cwjbzd/tlhttrgs/ppsmqwn/'), (146880, '/lfrctthp/lwqdqm/bdgnmf/'), (146823, '/lfrctthp/dvlb/jvvsgbl/fbvls/'), (145100, '/lfrctthp/cwjbzd/lfrctthp/fqswn/vpbwj/tlhttrgs/'), (142470, '/nmzntmcf/lrtsts/drtrdnsg/sppmmj/mdmh/zvtjfz/'), (142470, '/nmzntmcf/lrtsts/drtrdnsg/sppmmj/mdmh/'), (142337, '/lfrctthp/sqhvvsb/ldmwm/cwjbzd/tlhttrgs/jvs/'), (139964, '/jssbn/tlhttrgs/zjghthcb/lfrctthp/thgh/nrntbh/'), (137784, '/nmzntmcf/qpzqp/ddclns/vprlq/'), (137784, '/nmzntmcf/qpzqp/ddclns/'), (126589, '/lfrctthp/dvlb/dnqvhtr/sppmmj/mrhsrrm/'), (126044, '/jssbn/pjzpjjq/vpltwcs/tlhttrgs/cchd/'), (124869, '/jssbn/pjzpjjq/dvlb/wrgqqts/'), (121761, '/lfrctthp/ndn/hfq/bsjgglbs/'), (118388, '/jssbn/pjzpjjq/qlrn/wbgvqpc/dvlb/'), (115891, '/jssbn/tlhttrgs/zjghthcb/lfrctthp/thgh/qlhbf/'), (114380, '/lfrctthp/rtpwjds/sdssvrst/'), (113621, '/lfrctthp/dvlb/dnqvhtr/sppmmj/nlqmghj/'), (112583, '/nmzntmcf/jqcms/jzqbnpn/'), (102462, '/nmzntmcf/lvchpdf/tlhttrgs/tlhttrgs/qtws/'), (102273, '/lfrctthp/dvlb/dnqvhtr/vhrst/'), (95947, '/lfrctthp/dvlb/dnqvhtr/jzm/smtpdcpf/'), (93069, '/lfrctthp/cwjbzd/dfqpqqw/'), (88100, '/nmzntmcf/lvchpdf/tlhttrgs/tlhttrgs/sbhswjld/sppmmj/'), (77864, '/lfrctthp/sqhvvsb/ldmwm/cwjbzd/tlhttrgs/cgf/dvlb/'), (77864, '/lfrctthp/sqhvvsb/ldmwm/cwjbzd/tlhttrgs/cgf/'), (77668, '/nmzntmcf/lvchpdf/njfmmj/bjsvdfrf/'), (73173, '/nmzntmcf/scwnmrds/sppmmj/sppmmj/'), (73173, '/nmzntmcf/scwnmrds/sppmmj/'), (73173, '/nmzntmcf/scwnmrds/'), (62683, '/lfrctthp/dvlb/jvvsgbl/tlhttrgs/dvlb/'), (59762, '/lfrctthp/dvlb/jvvsgbl/gtwrhhd/'), (58893, '/jssbn/tlhttrgs/zjghthcb/ghzsqrn/sfhqmzhd/'), (57414, '/jssbn/pjzpjjq/qlrn/jwgd/'), (51752, '/nmzntmcf/lrtsts/drtrdnsg/sppmmj/wwhbgg/'), (49931, '/jssbn/tlhttrgs/zjghthcb/hvwjc/nchvqtdq/'), (49609, '/jssbn/pjzpjjq/dvlb/zhj/nqv/tlhttrgs/cqtnvzn/'), (47256, '/nmzntmcf/lvchpdf/sppmmj/tlhttrgs/'), (41223, '/lfrctthp/zzvnq/lznpqbrd/dvlb/'), (32598, '/jssbn/tlhttrgs/zjghthcb/ghzsqrn/mdqbvhrr/'), (28970, '/jssbn/pjzpjjq/dvlb/fnwsmj/lfrctthp/sgddcfdn/lnjln/'), (25830, '/lfrctthp/cwjbzd/dfqpqqw/rjm/'), (25083, '/jssbn/lfrctthp/lfrctthp/'), (24686, '/jssbn/pjzpjjq/qlrn/wbgvqpc/qfhvjtv/mhbbpdpj/ghrbbh/'), (24686, '/jssbn/pjzpjjq/qlrn/wbgvqpc/qfhvjtv/mhbbpdpj/'), (20045, '/nmzntmcf/lvchpdf/sppmmj/rdd/'), (16118, '/lfrctthp/zzvnq/vnmhs/'), (10445, '/jssbn/lfrctthp/srf/wvhhr/'), (7675, '/lfrctthp/dvlb/jqpzj/'), (5150, '/jssbn/rbtbtt/wqmvzg/lzbj/tnhdmqjh/'), (5150, '/jssbn/rbtbtt/wqmvzg/lzbj/'), (5150, '/jssbn/rbtbtt/wqmvzg/'), (3666, '/jssbn/pjzpjjq/qlrn/wbgvqpc/tpcwhmv/')]\n",
      "1443806\n"
     ]
    }
   ],
   "source": [
    "class Tree:\n",
    "    def __init__(self, data, name):\n",
    "        self.children = []\n",
    "        self.data_size = data_size\n",
    "        self.name = name\n",
    "\n",
    "files = {}\n",
    "directories = [\"/\"]\n",
    "dirSums = {}\n",
    "\n",
    "currentDir = \"/\"\n",
    "for command in commands:\n",
    "    if command[0] == \"$\":\n",
    "        if command[1] == \"cd\":\n",
    "            if command[2] == \"/\":\n",
    "                currentDir = \"/\"\n",
    "            elif command[2] == \"..\":\n",
    "                #print(\"Boutta Back\")\n",
    "                #print(currentDir.split(\"/\"))\n",
    "                index = currentDir.rfind(currentDir.split(\"/\")[-2])\n",
    "                currentDir = currentDir[:index]\n",
    "            else:\n",
    "                currentDir += (command[2]+\"/\")\n",
    "                if currentDir not in directories:\n",
    "                    directories.append(currentDir)\n",
    "            #print(\"Current dir: \"+currentDir)\n",
    "\n",
    "    else:\n",
    "        if command[0] != \"dir\":\n",
    "            files[currentDir+command[1]] = command[0]\n",
    "directories.sort(key=lambda x: x.count('/'))\n",
    "directories.reverse()\n",
    "\n",
    "#print(files)\n",
    "#print(directories)\n",
    "#print(files)\n",
    "\n",
    "for dir in directories:\n",
    "    dirFiles = [ v for k,v in files.items() if dir in k]\n",
    "    dirFiles = list(map(int, dirFiles))\n",
    "    #print(dirFiles)\n",
    "    dirSums[dir] = sum(dirFiles)\n",
    "print(sorted( ((v,k) for k,v in dirSums.items()), reverse=True))\n",
    "\n",
    "finalDirs = dict(filter(lambda elem: elem[1] < 100000,dirSums.items()))\n",
    "#print(finalDirs)\n",
    "print(sum(finalDirs.values()))"
   ]
  },
  {
   "cell_type": "code",
   "execution_count": 59,
   "metadata": {},
   "outputs": [
    {
     "name": "stdout",
     "output_type": "stream",
     "text": [
      "913445\n",
      "/jssbn/tlhttrgs/zjghthcb/lfrctthp/\n",
      "942298\n"
     ]
    }
   ],
   "source": [
    "class Tree:\n",
    "    def __init__(self, data, name):\n",
    "        self.children = []\n",
    "        self.data_size = data_size\n",
    "        self.name = name\n",
    "\n",
    "files = {}\n",
    "directories = [\"/\"]\n",
    "dirSums = {}\n",
    "\n",
    "currentDir = \"/\"\n",
    "for command in commands:\n",
    "    if command[0] == \"$\":\n",
    "        if command[1] == \"cd\":\n",
    "            if command[2] == \"/\":\n",
    "                currentDir = \"/\"\n",
    "            elif command[2] == \"..\":\n",
    "                #print(\"Boutta Back\")\n",
    "                #print(currentDir.split(\"/\"))\n",
    "                index = currentDir.rfind(currentDir.split(\"/\")[-2])\n",
    "                currentDir = currentDir[:index]\n",
    "            else:\n",
    "                currentDir += (command[2]+\"/\")\n",
    "                if currentDir not in directories:\n",
    "                    directories.append(currentDir)\n",
    "            #print(\"Current dir: \"+currentDir)\n",
    "\n",
    "    else:\n",
    "        if command[0] != \"dir\":\n",
    "            files[currentDir+command[1]] = command[0]\n",
    "directories.sort(key=lambda x: x.count('/'))\n",
    "directories.reverse()\n",
    "\n",
    "for dir in directories:\n",
    "    dirFiles = [ v for k,v in files.items() if dir in k]\n",
    "    dirFiles = list(map(int, dirFiles))\n",
    "    dirSums[dir] = sum(dirFiles)\n",
    "#print(dirSums)\n",
    "\n",
    "finalDirs = dict(filter(lambda elem: elem[1] < 100000,dirSums.items()))\n",
    "finalSum = sum(finalDirs.values())\n",
    "\n",
    "toFree = 30000000-70000000-dirSums[\"/\"]*-1\n",
    "\n",
    "dirToDelete = \"\"\n",
    "for k in sorted(dirSums, key=lambda k: dirSums[k], reverse=True):\n",
    "    if dirSums[k] > toFree:\n",
    "        dirToDelete=k\n",
    "    else:\n",
    "        break\n",
    "print(toFree)\n",
    "print(dirToDelete)\n",
    "print(dirSums[\"/jssbn/tlhttrgs/zjghthcb/lfrctthp/\"])"
   ]
  }
 ],
 "metadata": {
  "kernelspec": {
   "display_name": "Python 3.11.0 64-bit",
   "language": "python",
   "name": "python3"
  },
  "language_info": {
   "codemirror_mode": {
    "name": "ipython",
    "version": 3
   },
   "file_extension": ".py",
   "mimetype": "text/x-python",
   "name": "python",
   "nbconvert_exporter": "python",
   "pygments_lexer": "ipython3",
   "version": "3.11.0"
  },
  "orig_nbformat": 4,
  "vscode": {
   "interpreter": {
    "hash": "aee8b7b246df8f9039afb4144a1f6fd8d2ca17a180786b69acc140d282b71a49"
   }
  }
 },
 "nbformat": 4,
 "nbformat_minor": 2
}
