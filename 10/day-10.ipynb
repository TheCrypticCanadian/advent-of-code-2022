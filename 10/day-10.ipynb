{
 "cells": [
  {
   "cell_type": "code",
   "execution_count": 62,
   "metadata": {},
   "outputs": [
    {
     "name": "stdout",
     "output_type": "stream",
     "text": [
      "[['addx', '1'], ['noop'], ['addx', '4'], ['noop'], ['noop'], ['addx', '7'], ['noop'], ['noop'], ['noop'], ['addx', '3'], ['noop'], ['noop'], ['addx', '5'], ['addx', '-1'], ['addx', '1'], ['addx', '5'], ['addx', '3'], ['noop'], ['addx', '3'], ['noop'], ['addx', '-1'], ['noop'], ['addx', '3'], ['addx', '5'], ['addx', '-38'], ['addx', '7'], ['addx', '10'], ['addx', '-14'], ['addx', '5'], ['addx', '30'], ['addx', '-25'], ['noop'], ['addx', '2'], ['addx', '3'], ['addx', '-2'], ['addx', '2'], ['addx', '5'], ['addx', '2'], ['addx', '2'], ['addx', '-21'], ['addx', '22'], ['addx', '5'], ['addx', '2'], ['addx', '3'], ['noop'], ['addx', '-39'], ['addx', '1'], ['noop'], ['noop'], ['addx', '3'], ['addx', '5'], ['addx', '4'], ['addx', '-5'], ['addx', '4'], ['addx', '4'], ['noop'], ['addx', '-9'], ['addx', '12'], ['addx', '5'], ['addx', '2'], ['addx', '-1'], ['addx', '6'], ['addx', '-2'], ['noop'], ['addx', '3'], ['addx', '3'], ['addx', '2'], ['addx', '-37'], ['addx', '39'], ['addx', '-33'], ['addx', '-1'], ['addx', '1'], ['addx', '8'], ['noop'], ['noop'], ['noop'], ['addx', '2'], ['addx', '20'], ['addx', '-19'], ['addx', '4'], ['noop'], ['noop'], ['noop'], ['addx', '3'], ['addx', '2'], ['addx', '5'], ['noop'], ['addx', '1'], ['addx', '4'], ['addx', '-21'], ['addx', '22'], ['addx', '-38'], ['noop'], ['noop'], ['addx', '7'], ['addx', '32'], ['addx', '-27'], ['noop'], ['addx', '3'], ['addx', '-2'], ['addx', '2'], ['addx', '5'], ['addx', '2'], ['addx', '2'], ['addx', '3'], ['addx', '-2'], ['addx', '2'], ['noop'], ['addx', '3'], ['addx', '5'], ['addx', '2'], ['addx', '3'], ['noop'], ['addx', '-39'], ['addx', '2'], ['noop'], ['addx', '4'], ['addx', '8'], ['addx', '-8'], ['addx', '6'], ['addx', '-1'], ['noop'], ['addx', '5'], ['noop'], ['noop'], ['noop'], ['addx', '3'], ['addx', '5'], ['addx', '2'], ['addx', '-11'], ['addx', '12'], ['addx', '2'], ['noop'], ['addx', '3'], ['addx', '2'], ['addx', '5'], ['addx', '-6'], ['noop']]\n"
     ]
    }
   ],
   "source": [
    "if __name__ == \"__main__\":\n",
    "    filename=\"input.txt\"\n",
    "    with open(filename) as f:\n",
    "        commands = [line.rstrip().split(\" \") for line in f.readlines()]\n",
    "print(commands)"
   ]
  },
  {
   "cell_type": "code",
   "execution_count": 68,
   "metadata": {},
   "outputs": [
    {
     "name": "stdout",
     "output_type": "stream",
     "text": [
      "20\n",
      "400\n",
      "60\n",
      "1140\n",
      "100\n",
      "1900\n",
      "140\n",
      "2940\n",
      "180\n",
      "3780\n",
      "220\n",
      "4180\n",
      "\n",
      "[400, 1140, 1900, 2940, 3780, 4180]\n",
      "14340\n"
     ]
    }
   ],
   "source": [
    "\n",
    "X=1\n",
    "index = 0\n",
    "cycle_timer = 0\n",
    "final_sum = []\n",
    "for cycle in range(0,230):\n",
    "    if index > len(commands)-1:\n",
    "        index = 0\n",
    "    instruction = commands[index]\n",
    "\n",
    "    if instruction[0] == \"noop\":\n",
    "        index +=1\n",
    "    elif instruction[0] == \"addx\":\n",
    "        if cycle_timer == 0:\n",
    "            cycle_timer += 1\n",
    "        elif cycle_timer == 1:\n",
    "            cycle_timer = 0\n",
    "            index += 1\n",
    "            X += int(instruction[1])\n",
    "\n",
    "    # if cycle in [20,60,100,140,180,220]:\n",
    "    #     print(cycle)\n",
    "    #     print(X*(cycle)) \n",
    "        \n",
    "    #     final_sum.append(X*(cycle)) \n",
    "    if cycle in [19,59,99,139,179,219]:\n",
    "        print(X*(cycle+1))\n",
    "        final_sum.append(X*(cycle+1))\n",
    "print()\n",
    "print(final_sum)\n",
    "print(sum(final_sum))\n",
    "\n",
    "\n"
   ]
  }
 ],
 "metadata": {
  "kernelspec": {
   "display_name": "Python 3",
   "language": "python",
   "name": "python3"
  },
  "language_info": {
   "codemirror_mode": {
    "name": "ipython",
    "version": 3
   },
   "file_extension": ".py",
   "mimetype": "text/x-python",
   "name": "python",
   "nbconvert_exporter": "python",
   "pygments_lexer": "ipython3",
   "version": "3.11.0"
  },
  "orig_nbformat": 4,
  "vscode": {
   "interpreter": {
    "hash": "aee8b7b246df8f9039afb4144a1f6fd8d2ca17a180786b69acc140d282b71a49"
   }
  }
 },
 "nbformat": 4,
 "nbformat_minor": 2
}
