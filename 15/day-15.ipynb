{
 "cells": [
  {
   "cell_type": "code",
   "execution_count": 1,
   "metadata": {},
   "outputs": [],
   "source": [
    "filename=\"input-ex.txt\"\n",
    "with open(filename) as f:\n",
    "    lines = [line.rstrip().split(\":\") for line in f.readlines()]\n",
    "    for i in range(len(lines)):\n",
    "        line = lines[i]\n",
    "        line[0] = line[0][10:]\n",
    "        x_y = line[0].replace(\"x=\",\"\").replace(\"y=\",\"\").split(\", \")\n",
    "        line[0] = tuple(map(int,x_y))\n",
    "        line[1] = tuple(map(int,line[1][22:].replace(\"x=\",\"\").replace(\"y=\",\"\").split(\", \")))\n",
    "\n",
    "sensors = [sensor[0] for sensor in lines]\n",
    "beacons = [beacon[1] for beacon in lines]\n",
    "combined = sensors+beacons\n",
    "\n",
    "def print_map(sensors,beacons):\n",
    "    combined = sensors+beacons\n",
    "    min_x = min(combined, key=lambda tup: tup[0])[0]\n",
    "    max_x = max(combined, key=lambda tup: tup[0])[0]\n",
    "    min_y = min(combined, key=lambda tup: tup[1])[1]\n",
    "    max_y = max(combined, key=lambda tup: tup[1])[1]\n",
    "\n",
    "    for y in range(min_y,max_y):\n",
    "        row_string = \"\"\n",
    "        for x in range(min_x,max_x):\n",
    "            if (x,y) in sensors:\n",
    "                row_string += \"S\"\n",
    "            elif (x,y) in beacons:\n",
    "                row_string += \"B\"\n",
    "            else:\n",
    "                row_string += \".\"\n",
    "        print(row_string)\n"
   ]
  },
  {
   "cell_type": "code",
   "execution_count": null,
   "metadata": {},
   "outputs": [],
   "source": []
  },
  {
   "cell_type": "code",
   "execution_count": 41,
   "metadata": {},
   "outputs": [
    {
     "name": "stdout",
     "output_type": "stream",
     "text": [
      "4961647\n"
     ]
    }
   ],
   "source": [
    "#print(\"Map: \")\n",
    "#print_map(sensors,beacons)\n",
    "distances = []\n",
    "for i in range(len(sensors)):\n",
    "    distances.append(abs(sensors[i][0]-beacons[i][0])+abs(sensors[i][1]-beacons[i][1]))\n",
    "\n",
    "min_x = min(combined, key=lambda tup: tup[0])[0]\n",
    "max_x = max(combined, key=lambda tup: tup[0])[0]\n",
    "#print(min_x,max_x)\n",
    "row = 2000000\n",
    "locations = 0 \n",
    "row_string = \"\"\n",
    "\n",
    "def manhatten(point1,point2):\n",
    "    return abs(point1[0]-point2[0])+abs(point1[1]-point2[1])\n",
    "\n",
    "all_positions = set([])\n",
    "for i in range(len(sensors)):\n",
    "    sensor = sensors[i]\n",
    "    distance = distances[i]\n",
    "    y_range = range(sensor[1]-distance,sensor[1]+distance)\n",
    "    if row in y_range:\n",
    "        intersection_distance = manhatten(sensor,(sensor[0],row))\n",
    "        x_distance = distance-intersection_distance\n",
    "        x_range = set(range(sensor[0]-x_distance,sensor[0]+x_distance+1))\n",
    "        all_positions = all_positions.union(x_range)\n",
    "\n",
    "for i in range(len(beacons)):\n",
    "    x = beacons[i][0]\n",
    "    if beacons[i][1] == row:\n",
    "        if x in all_positions:\n",
    "            all_positions.remove(x)\n",
    "\n",
    "print(len(all_positions))\n",
    "    \n",
    "    "
   ]
  },
  {
   "cell_type": "code",
   "execution_count": 7,
   "metadata": {},
   "outputs": [
    {
     "name": "stdout",
     "output_type": "stream",
     "text": [
      "\n",
      "Row  0\n",
      "\n",
      "Row  1\n",
      "\n",
      "Row  2\n",
      "\n",
      "Row  3\n",
      "\n",
      "Row  4\n",
      "\n",
      "Row  5\n",
      "\n",
      "Row  6\n",
      "\n",
      "Row  7\n",
      "\n",
      "Row  8\n",
      "\n",
      "Row  9\n",
      "\n",
      "Row  10\n",
      "\n",
      "Row  11\n",
      "56000011\n",
      "28\n"
     ]
    }
   ],
   "source": [
    "distances = []\n",
    "for i in range(len(sensors)):\n",
    "    distances.append(abs(sensors[i][0]-beacons[i][0])+abs(sensors[i][1]-beacons[i][1]))\n",
    "\n",
    "locations = 0 \n",
    "row_string = \"\"\n",
    "\n",
    "def manhatten(point1,point2):\n",
    "    return abs(point1[0]-point2[0])+abs(point1[1]-point2[1])\n",
    "\n",
    "def get_border_points(point,distance):    \n",
    "    points = []\n",
    "    for x in range(point[0]-distance,point[0]+distance+1):\n",
    "        for y in range(point[1]-distance,point[1]+distance+1):\n",
    "            cur_dis = manhatten(point,(x,y))\n",
    "            if cur_dis == distance:\n",
    "                points.append((x,y))\n",
    "    return points\n",
    "\n",
    "\n",
    "search_range = 20\n",
    "full_set = set(range(search_range+1))\n",
    "\n",
    "locations = 0 \n",
    "row_string = \"\"\n",
    "\n",
    "def manhatten(point1,point2):\n",
    "    return abs(point1[0]-point2[0])+abs(point1[1]-point2[1])\n",
    "\n",
    "for row in range(20+1):\n",
    "    all_positions = set([])\n",
    "    for i in range(len(sensors)):\n",
    "        sensor = sensors[i]\n",
    "        distance = distances[i]\n",
    "        y_range = range(sensor[1]-distance,sensor[1]+distance)\n",
    "        if row in y_range:\n",
    "            intersection_distance = manhatten(sensor,(sensor[0],row))\n",
    "            x_distance = distance-intersection_distance\n",
    "            x_range = set(range(sensor[0]-x_distance,sensor[0]+x_distance+1))\n",
    "            all_positions = all_positions.union(x_range)\n",
    "    reduced = full_set.intersection(all_positions)\n",
    "    difference = full_set.difference(reduced)\n",
    "    if len(difference) > 0:\n",
    "        print(list(difference)[0]*4000000+row)\n",
    "        break\n",
    "\n"
   ]
  }
 ],
 "metadata": {
  "kernelspec": {
   "display_name": "Python 3",
   "language": "python",
   "name": "python3"
  },
  "language_info": {
   "codemirror_mode": {
    "name": "ipython",
    "version": 3
   },
   "file_extension": ".py",
   "mimetype": "text/x-python",
   "name": "python",
   "nbconvert_exporter": "python",
   "pygments_lexer": "ipython3",
   "version": "3.11.0"
  },
  "orig_nbformat": 4,
  "vscode": {
   "interpreter": {
    "hash": "aee8b7b246df8f9039afb4144a1f6fd8d2ca17a180786b69acc140d282b71a49"
   }
  }
 },
 "nbformat": 4,
 "nbformat_minor": 2
}
