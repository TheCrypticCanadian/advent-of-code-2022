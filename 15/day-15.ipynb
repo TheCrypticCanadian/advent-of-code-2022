{
 "cells": [
  {
   "cell_type": "code",
   "execution_count": 21,
   "metadata": {},
   "outputs": [
    {
     "name": "stdout",
     "output_type": "stream",
     "text": [
      "[[(2, 18), (-2, 15)], [(9, 16), (10, 16)], [(13, 2), (15, 3)], [(12, 14), (10, 16)], [(10, 20), (10, 16)], [(14, 17), (10, 16)], [(8, 7), (2, 10)], [(2, 0), (2, 10)], [(0, 11), (2, 10)], [(20, 14), (25, 17)], [(17, 20), (21, 22)], [(16, 7), (15, 3)], [(14, 3), (15, 3)], [(20, 1), (15, 3)]]\n",
      "[(2, 18), (9, 16), (13, 2), (12, 14), (10, 20), (14, 17), (8, 7), (2, 0), (0, 11), (20, 14), (17, 20), (16, 7), (14, 3), (20, 1)]\n",
      "[(-2, 15), (10, 16), (15, 3), (10, 16), (10, 16), (10, 16), (2, 10), (2, 10), (2, 10), (25, 17), (21, 22), (15, 3), (15, 3), (15, 3)]\n",
      "Map: \n",
      "....S......................\n",
      "......................S....\n",
      "...............S...........\n",
      "................SB.........\n",
      "...........................\n",
      "...........................\n",
      "...........................\n",
      "..........S.......S........\n",
      "...........................\n",
      "...........................\n",
      "....B......................\n",
      "..S........................\n",
      "...........................\n",
      "...........................\n",
      "..............S.......S....\n",
      "B..........................\n",
      "...........SB..............\n",
      "................S..........\n",
      "....S......................\n",
      "...........................\n",
      "............S......S.......\n",
      "...........................\n"
     ]
    }
   ],
   "source": [
    "filename=\"input-ex.txt\"\n",
    "with open(filename) as f:\n",
    "    lines = [line.rstrip().split(\":\") for line in f.readlines()]\n",
    "    for i in range(len(lines)):\n",
    "        line = lines[i]\n",
    "        line[0] = line[0][10:]\n",
    "        x_y = line[0].replace(\"x=\",\"\").replace(\"y=\",\"\").split(\", \")\n",
    "        line[0] = tuple(map(int,x_y))\n",
    "        line[1] = tuple(map(int,line[1][22:].replace(\"x=\",\"\").replace(\"y=\",\"\").split(\", \")))\n",
    "\n",
    "sensors = [sensor[0] for sensor in lines]\n",
    "beacons = [beacon[1] for beacon in lines]\n",
    "\n",
    "def print_map(sensors,beacons):\n",
    "    combined = sensors+beacons\n",
    "    min_x = min(combined, key=lambda tup: tup[0])[0]\n",
    "    max_x = max(combined, key=lambda tup: tup[0])[0]\n",
    "    min_y = min(combined, key=lambda tup: tup[1])[1]\n",
    "    max_y = max(combined, key=lambda tup: tup[1])[1]\n",
    "\n",
    "    for y in range(min_y,max_y):\n",
    "        row_string = \"\"\n",
    "        for x in range(min_x,max_x):\n",
    "            if (x,y) in sensors:\n",
    "                row_string += \"S\"\n",
    "            elif (x,y) in beacons:\n",
    "                row_string += \"B\"\n",
    "            else:\n",
    "                row_string += \".\"\n",
    "        print(row_string)\n",
    "\n",
    "print(\"Map: \")\n",
    "print_map(sensors,beacons)"
   ]
  }
 ],
 "metadata": {
  "kernelspec": {
   "display_name": "Python 3",
   "language": "python",
   "name": "python3"
  },
  "language_info": {
   "codemirror_mode": {
    "name": "ipython",
    "version": 3
   },
   "file_extension": ".py",
   "mimetype": "text/x-python",
   "name": "python",
   "nbconvert_exporter": "python",
   "pygments_lexer": "ipython3",
   "version": "3.11.0"
  },
  "orig_nbformat": 4,
  "vscode": {
   "interpreter": {
    "hash": "aee8b7b246df8f9039afb4144a1f6fd8d2ca17a180786b69acc140d282b71a49"
   }
  }
 },
 "nbformat": 4,
 "nbformat_minor": 2
}
