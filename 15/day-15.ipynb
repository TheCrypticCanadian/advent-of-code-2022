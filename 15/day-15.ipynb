{
 "cells": [
  {
   "cell_type": "code",
   "execution_count": 2,
   "metadata": {},
   "outputs": [],
   "source": [
    "filename=\"input.txt\"\n",
    "with open(filename) as f:\n",
    "    lines = [line.rstrip().split(\":\") for line in f.readlines()]\n",
    "    for i in range(len(lines)):\n",
    "        line = lines[i]\n",
    "        line[0] = line[0][10:]\n",
    "        x_y = line[0].replace(\"x=\",\"\").replace(\"y=\",\"\").split(\", \")\n",
    "        line[0] = tuple(map(int,x_y))\n",
    "        line[1] = tuple(map(int,line[1][22:].replace(\"x=\",\"\").replace(\"y=\",\"\").split(\", \")))\n",
    "\n",
    "sensors = [sensor[0] for sensor in lines]\n",
    "beacons = [beacon[1] for beacon in lines]\n",
    "combined = sensors+beacons\n",
    "\n",
    "def print_map(sensors,beacons):\n",
    "    combined = sensors+beacons\n",
    "    min_x = min(combined, key=lambda tup: tup[0])[0]\n",
    "    max_x = max(combined, key=lambda tup: tup[0])[0]\n",
    "    min_y = min(combined, key=lambda tup: tup[1])[1]\n",
    "    max_y = max(combined, key=lambda tup: tup[1])[1]\n",
    "\n",
    "    for y in range(min_y,max_y):\n",
    "        row_string = \"\"\n",
    "        for x in range(min_x,max_x):\n",
    "            if (x,y) in sensors:\n",
    "                row_string += \"S\"\n",
    "            elif (x,y) in beacons:\n",
    "                row_string += \"B\"\n",
    "            else:\n",
    "                row_string += \".\"\n",
    "        print(row_string)\n"
   ]
  },
  {
   "cell_type": "code",
   "execution_count": 1,
   "metadata": {},
   "outputs": [
    {
     "ename": "NameError",
     "evalue": "name 'sensors' is not defined",
     "output_type": "error",
     "traceback": [
      "\u001b[0;31m---------------------------------------------------------------------------\u001b[0m",
      "\u001b[0;31mNameError\u001b[0m                                 Traceback (most recent call last)",
      "Cell \u001b[0;32mIn[1], line 4\u001b[0m\n\u001b[1;32m      1\u001b[0m \u001b[39m#print(\"Map: \")\u001b[39;00m\n\u001b[1;32m      2\u001b[0m \u001b[39m#print_map(sensors,beacons)\u001b[39;00m\n\u001b[1;32m      3\u001b[0m distances \u001b[39m=\u001b[39m []\n\u001b[0;32m----> 4\u001b[0m \u001b[39mfor\u001b[39;00m i \u001b[39min\u001b[39;00m \u001b[39mrange\u001b[39m(\u001b[39mlen\u001b[39m(sensors)):\n\u001b[1;32m      5\u001b[0m     distances\u001b[39m.\u001b[39mappend(\u001b[39mabs\u001b[39m(sensors[i][\u001b[39m0\u001b[39m]\u001b[39m-\u001b[39mbeacons[i][\u001b[39m0\u001b[39m])\u001b[39m+\u001b[39m\u001b[39mabs\u001b[39m(sensors[i][\u001b[39m1\u001b[39m]\u001b[39m-\u001b[39mbeacons[i][\u001b[39m1\u001b[39m]))\n\u001b[1;32m      6\u001b[0m     \u001b[39mprint\u001b[39m(sensors[i],beacons[i],distances[i])\n",
      "\u001b[0;31mNameError\u001b[0m: name 'sensors' is not defined"
     ]
    }
   ],
   "source": [
    "#print(\"Map: \")\n",
    "#print_map(sensors,beacons)\n",
    "distances = []\n",
    "for i in range(len(sensors)):\n",
    "    distances.append(abs(sensors[i][0]-beacons[i][0])+abs(sensors[i][1]-beacons[i][1]))\n",
    "    print(sensors[i],beacons[i],distances[i])\n",
    "\n",
    "min_x = min(combined, key=lambda tup: tup[0])[0]\n",
    "max_x = max(combined, key=lambda tup: tup[0])[0]\n",
    "row = 10\n",
    "locations = 0 \n",
    "for cur_x in range (min_x,max_x):\n",
    "    #print()\n",
    "    point = (cur_x,row)\n",
    "    #print(\"New Point:\", point)\n",
    "    valid = False\n",
    "    for i in range(len(sensors)):\n",
    "        sensor = sensors[i]\n",
    "        #print(\"Sensor: \",sensor)\n",
    "        distance = abs(sensors[i][0]-point[0])+abs(sensors[i][1]-point[1])\n",
    "        #print(\"Distances: \",distance,distances[i])\n",
    "        if distance <= distances[i]:\n",
    "            valid = True\n",
    "            break\n",
    "    if valid == True:\n",
    "        locations += 1\n",
    "print(locations)\n",
    "    \n",
    "\n",
    "\n",
    "# ranges = []\n",
    "# for i in range(len(sensors)):\n",
    "#     positions = []\n",
    "#     sensor = sensors[i]\n",
    "#     beacon = beacons[i]\n",
    "#     distance = distances[i]\n",
    "#     x_range = [sensor[0]-distance,sensor[0]+distance]\n",
    "#     y_range = [sensor[1]-distance,sensor[1]+distance]\n",
    "    "
   ]
  }
 ],
 "metadata": {
  "kernelspec": {
   "display_name": "Python 3",
   "language": "python",
   "name": "python3"
  },
  "language_info": {
   "codemirror_mode": {
    "name": "ipython",
    "version": 3
   },
   "file_extension": ".py",
   "mimetype": "text/x-python",
   "name": "python",
   "nbconvert_exporter": "python",
   "pygments_lexer": "ipython3",
   "version": "3.11.0"
  },
  "orig_nbformat": 4,
  "vscode": {
   "interpreter": {
    "hash": "aee8b7b246df8f9039afb4144a1f6fd8d2ca17a180786b69acc140d282b71a49"
   }
  }
 },
 "nbformat": 4,
 "nbformat_minor": 2
}
